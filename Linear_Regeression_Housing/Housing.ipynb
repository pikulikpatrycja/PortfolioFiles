{
 "cells": [
  {
   "cell_type": "code",
   "execution_count": 1,
   "id": "2b7ff06d-24c1-446f-9cf2-0fbf235f70f2",
   "metadata": {
    "execution": {
     "iopub.execute_input": "2024-09-30T20:34:47.571477Z",
     "iopub.status.busy": "2024-09-30T20:34:47.570989Z",
     "iopub.status.idle": "2024-09-30T20:34:47.580030Z",
     "shell.execute_reply": "2024-09-30T20:34:47.579500Z",
     "shell.execute_reply.started": "2024-09-30T20:34:47.571436Z"
    },
    "tags": []
   },
   "outputs": [
    {
     "data": {
      "text/plain": [
       "'/Users/mohammedarif/Desktop/github_repos/Portfolio'"
      ]
     },
     "execution_count": 1,
     "metadata": {},
     "output_type": "execute_result"
    }
   ],
   "source": [
    "%pwd"
   ]
  },
  {
   "cell_type": "code",
   "execution_count": 2,
   "id": "757204a4-d6b1-4ee9-a8e6-fb64447321a0",
   "metadata": {
    "execution": {
     "iopub.execute_input": "2024-09-30T20:34:47.581496Z",
     "iopub.status.busy": "2024-09-30T20:34:47.581273Z",
     "iopub.status.idle": "2024-09-30T20:34:48.261211Z",
     "shell.execute_reply": "2024-09-30T20:34:48.260897Z",
     "shell.execute_reply.started": "2024-09-30T20:34:47.581478Z"
    },
    "tags": []
   },
   "outputs": [],
   "source": [
    "import pandas as pd\n",
    "from sklearn.model_selection import train_test_split\n",
    "import numpy as np\n",
    "import matplotlib.pyplot as plt"
   ]
  },
  {
   "cell_type": "code",
   "execution_count": 3,
   "id": "e3d21a19-ce2a-45f0-b05e-f2b4cf10c972",
   "metadata": {
    "execution": {
     "iopub.execute_input": "2024-09-30T20:34:48.261707Z",
     "iopub.status.busy": "2024-09-30T20:34:48.261602Z",
     "iopub.status.idle": "2024-09-30T20:34:48.274157Z",
     "shell.execute_reply": "2024-09-30T20:34:48.273987Z",
     "shell.execute_reply.started": "2024-09-30T20:34:48.261699Z"
    },
    "tags": []
   },
   "outputs": [
    {
     "data": {
      "text/html": [
       "<div>\n",
       "<style scoped>\n",
       "    .dataframe tbody tr th:only-of-type {\n",
       "        vertical-align: middle;\n",
       "    }\n",
       "\n",
       "    .dataframe tbody tr th {\n",
       "        vertical-align: top;\n",
       "    }\n",
       "\n",
       "    .dataframe thead th {\n",
       "        text-align: right;\n",
       "    }\n",
       "</style>\n",
       "<table border=\"1\" class=\"dataframe\">\n",
       "  <thead>\n",
       "    <tr style=\"text-align: right;\">\n",
       "      <th></th>\n",
       "      <th>longitude</th>\n",
       "      <th>latitude</th>\n",
       "      <th>housing_median_age</th>\n",
       "      <th>total_rooms</th>\n",
       "      <th>total_bedrooms</th>\n",
       "      <th>population</th>\n",
       "      <th>households</th>\n",
       "      <th>median_income</th>\n",
       "      <th>median_house_value</th>\n",
       "      <th>ocean_proximity</th>\n",
       "    </tr>\n",
       "  </thead>\n",
       "  <tbody>\n",
       "    <tr>\n",
       "      <th>0</th>\n",
       "      <td>-122.23</td>\n",
       "      <td>37.88</td>\n",
       "      <td>41.0</td>\n",
       "      <td>880.0</td>\n",
       "      <td>129.0</td>\n",
       "      <td>322.0</td>\n",
       "      <td>126.0</td>\n",
       "      <td>8.3252</td>\n",
       "      <td>452600.0</td>\n",
       "      <td>NEAR BAY</td>\n",
       "    </tr>\n",
       "    <tr>\n",
       "      <th>1</th>\n",
       "      <td>-122.22</td>\n",
       "      <td>37.86</td>\n",
       "      <td>21.0</td>\n",
       "      <td>7099.0</td>\n",
       "      <td>1106.0</td>\n",
       "      <td>2401.0</td>\n",
       "      <td>1138.0</td>\n",
       "      <td>8.3014</td>\n",
       "      <td>358500.0</td>\n",
       "      <td>NEAR BAY</td>\n",
       "    </tr>\n",
       "    <tr>\n",
       "      <th>2</th>\n",
       "      <td>-122.24</td>\n",
       "      <td>37.85</td>\n",
       "      <td>52.0</td>\n",
       "      <td>1467.0</td>\n",
       "      <td>190.0</td>\n",
       "      <td>496.0</td>\n",
       "      <td>177.0</td>\n",
       "      <td>7.2574</td>\n",
       "      <td>352100.0</td>\n",
       "      <td>NEAR BAY</td>\n",
       "    </tr>\n",
       "    <tr>\n",
       "      <th>3</th>\n",
       "      <td>-122.25</td>\n",
       "      <td>37.85</td>\n",
       "      <td>52.0</td>\n",
       "      <td>1274.0</td>\n",
       "      <td>235.0</td>\n",
       "      <td>558.0</td>\n",
       "      <td>219.0</td>\n",
       "      <td>5.6431</td>\n",
       "      <td>341300.0</td>\n",
       "      <td>NEAR BAY</td>\n",
       "    </tr>\n",
       "    <tr>\n",
       "      <th>4</th>\n",
       "      <td>-122.25</td>\n",
       "      <td>37.85</td>\n",
       "      <td>52.0</td>\n",
       "      <td>1627.0</td>\n",
       "      <td>280.0</td>\n",
       "      <td>565.0</td>\n",
       "      <td>259.0</td>\n",
       "      <td>3.8462</td>\n",
       "      <td>342200.0</td>\n",
       "      <td>NEAR BAY</td>\n",
       "    </tr>\n",
       "  </tbody>\n",
       "</table>\n",
       "</div>"
      ],
      "text/plain": [
       "   longitude  latitude  housing_median_age  total_rooms  total_bedrooms  \\\n",
       "0    -122.23     37.88                41.0        880.0           129.0   \n",
       "1    -122.22     37.86                21.0       7099.0          1106.0   \n",
       "2    -122.24     37.85                52.0       1467.0           190.0   \n",
       "3    -122.25     37.85                52.0       1274.0           235.0   \n",
       "4    -122.25     37.85                52.0       1627.0           280.0   \n",
       "\n",
       "   population  households  median_income  median_house_value ocean_proximity  \n",
       "0       322.0       126.0         8.3252            452600.0        NEAR BAY  \n",
       "1      2401.0      1138.0         8.3014            358500.0        NEAR BAY  \n",
       "2       496.0       177.0         7.2574            352100.0        NEAR BAY  \n",
       "3       558.0       219.0         5.6431            341300.0        NEAR BAY  \n",
       "4       565.0       259.0         3.8462            342200.0        NEAR BAY  "
      ]
     },
     "execution_count": 3,
     "metadata": {},
     "output_type": "execute_result"
    }
   ],
   "source": [
    "housing = pd.read_csv(\"housing.csv\")\n",
    "\n",
    "housing.head()"
   ]
  },
  {
   "cell_type": "code",
   "execution_count": 4,
   "id": "931d7b9b-cba6-4ab4-8755-8f953176d96c",
   "metadata": {
    "execution": {
     "iopub.execute_input": "2024-09-30T20:34:48.274548Z",
     "iopub.status.busy": "2024-09-30T20:34:48.274472Z",
     "iopub.status.idle": "2024-09-30T20:34:48.278179Z",
     "shell.execute_reply": "2024-09-30T20:34:48.278007Z",
     "shell.execute_reply.started": "2024-09-30T20:34:48.274542Z"
    },
    "tags": []
   },
   "outputs": [
    {
     "data": {
      "text/html": [
       "<div>\n",
       "<style scoped>\n",
       "    .dataframe tbody tr th:only-of-type {\n",
       "        vertical-align: middle;\n",
       "    }\n",
       "\n",
       "    .dataframe tbody tr th {\n",
       "        vertical-align: top;\n",
       "    }\n",
       "\n",
       "    .dataframe thead th {\n",
       "        text-align: right;\n",
       "    }\n",
       "</style>\n",
       "<table border=\"1\" class=\"dataframe\">\n",
       "  <thead>\n",
       "    <tr style=\"text-align: right;\">\n",
       "      <th></th>\n",
       "      <th>longitude</th>\n",
       "      <th>latitude</th>\n",
       "      <th>housing_median_age</th>\n",
       "      <th>total_rooms</th>\n",
       "      <th>total_bedrooms</th>\n",
       "      <th>population</th>\n",
       "      <th>households</th>\n",
       "      <th>median_income</th>\n",
       "      <th>median_house_value</th>\n",
       "      <th>ocean_proximity</th>\n",
       "    </tr>\n",
       "  </thead>\n",
       "  <tbody>\n",
       "    <tr>\n",
       "      <th>20635</th>\n",
       "      <td>-121.09</td>\n",
       "      <td>39.48</td>\n",
       "      <td>25.0</td>\n",
       "      <td>1665.0</td>\n",
       "      <td>374.0</td>\n",
       "      <td>845.0</td>\n",
       "      <td>330.0</td>\n",
       "      <td>1.5603</td>\n",
       "      <td>78100.0</td>\n",
       "      <td>INLAND</td>\n",
       "    </tr>\n",
       "    <tr>\n",
       "      <th>20636</th>\n",
       "      <td>-121.21</td>\n",
       "      <td>39.49</td>\n",
       "      <td>18.0</td>\n",
       "      <td>697.0</td>\n",
       "      <td>150.0</td>\n",
       "      <td>356.0</td>\n",
       "      <td>114.0</td>\n",
       "      <td>2.5568</td>\n",
       "      <td>77100.0</td>\n",
       "      <td>INLAND</td>\n",
       "    </tr>\n",
       "    <tr>\n",
       "      <th>20637</th>\n",
       "      <td>-121.22</td>\n",
       "      <td>39.43</td>\n",
       "      <td>17.0</td>\n",
       "      <td>2254.0</td>\n",
       "      <td>485.0</td>\n",
       "      <td>1007.0</td>\n",
       "      <td>433.0</td>\n",
       "      <td>1.7000</td>\n",
       "      <td>92300.0</td>\n",
       "      <td>INLAND</td>\n",
       "    </tr>\n",
       "    <tr>\n",
       "      <th>20638</th>\n",
       "      <td>-121.32</td>\n",
       "      <td>39.43</td>\n",
       "      <td>18.0</td>\n",
       "      <td>1860.0</td>\n",
       "      <td>409.0</td>\n",
       "      <td>741.0</td>\n",
       "      <td>349.0</td>\n",
       "      <td>1.8672</td>\n",
       "      <td>84700.0</td>\n",
       "      <td>INLAND</td>\n",
       "    </tr>\n",
       "    <tr>\n",
       "      <th>20639</th>\n",
       "      <td>-121.24</td>\n",
       "      <td>39.37</td>\n",
       "      <td>16.0</td>\n",
       "      <td>2785.0</td>\n",
       "      <td>616.0</td>\n",
       "      <td>1387.0</td>\n",
       "      <td>530.0</td>\n",
       "      <td>2.3886</td>\n",
       "      <td>89400.0</td>\n",
       "      <td>INLAND</td>\n",
       "    </tr>\n",
       "  </tbody>\n",
       "</table>\n",
       "</div>"
      ],
      "text/plain": [
       "       longitude  latitude  housing_median_age  total_rooms  total_bedrooms  \\\n",
       "20635    -121.09     39.48                25.0       1665.0           374.0   \n",
       "20636    -121.21     39.49                18.0        697.0           150.0   \n",
       "20637    -121.22     39.43                17.0       2254.0           485.0   \n",
       "20638    -121.32     39.43                18.0       1860.0           409.0   \n",
       "20639    -121.24     39.37                16.0       2785.0           616.0   \n",
       "\n",
       "       population  households  median_income  median_house_value  \\\n",
       "20635       845.0       330.0         1.5603             78100.0   \n",
       "20636       356.0       114.0         2.5568             77100.0   \n",
       "20637      1007.0       433.0         1.7000             92300.0   \n",
       "20638       741.0       349.0         1.8672             84700.0   \n",
       "20639      1387.0       530.0         2.3886             89400.0   \n",
       "\n",
       "      ocean_proximity  \n",
       "20635          INLAND  \n",
       "20636          INLAND  \n",
       "20637          INLAND  \n",
       "20638          INLAND  \n",
       "20639          INLAND  "
      ]
     },
     "execution_count": 4,
     "metadata": {},
     "output_type": "execute_result"
    }
   ],
   "source": [
    "housing.tail()"
   ]
  },
  {
   "cell_type": "code",
   "execution_count": 5,
   "id": "a08027dc-554f-4f96-824c-3147ad889a26",
   "metadata": {
    "execution": {
     "iopub.execute_input": "2024-09-30T20:34:48.279062Z",
     "iopub.status.busy": "2024-09-30T20:34:48.278995Z",
     "iopub.status.idle": "2024-09-30T20:34:48.284062Z",
     "shell.execute_reply": "2024-09-30T20:34:48.283890Z",
     "shell.execute_reply.started": "2024-09-30T20:34:48.279056Z"
    },
    "tags": []
   },
   "outputs": [
    {
     "data": {
      "text/html": [
       "<div>\n",
       "<style scoped>\n",
       "    .dataframe tbody tr th:only-of-type {\n",
       "        vertical-align: middle;\n",
       "    }\n",
       "\n",
       "    .dataframe tbody tr th {\n",
       "        vertical-align: top;\n",
       "    }\n",
       "\n",
       "    .dataframe thead th {\n",
       "        text-align: right;\n",
       "    }\n",
       "</style>\n",
       "<table border=\"1\" class=\"dataframe\">\n",
       "  <thead>\n",
       "    <tr style=\"text-align: right;\">\n",
       "      <th></th>\n",
       "      <th>latitude</th>\n",
       "      <th>longitude</th>\n",
       "      <th>housing_median_age</th>\n",
       "      <th>total_rooms</th>\n",
       "      <th>total_bedrooms</th>\n",
       "      <th>population</th>\n",
       "      <th>households</th>\n",
       "      <th>median_income</th>\n",
       "      <th>median_house_value</th>\n",
       "    </tr>\n",
       "  </thead>\n",
       "  <tbody>\n",
       "    <tr>\n",
       "      <th>0</th>\n",
       "      <td>37.88</td>\n",
       "      <td>-122.23</td>\n",
       "      <td>41.0</td>\n",
       "      <td>880.0</td>\n",
       "      <td>129.0</td>\n",
       "      <td>322.0</td>\n",
       "      <td>126.0</td>\n",
       "      <td>8.3252</td>\n",
       "      <td>452600.0</td>\n",
       "    </tr>\n",
       "    <tr>\n",
       "      <th>1</th>\n",
       "      <td>37.86</td>\n",
       "      <td>-122.22</td>\n",
       "      <td>21.0</td>\n",
       "      <td>7099.0</td>\n",
       "      <td>1106.0</td>\n",
       "      <td>2401.0</td>\n",
       "      <td>1138.0</td>\n",
       "      <td>8.3014</td>\n",
       "      <td>358500.0</td>\n",
       "    </tr>\n",
       "    <tr>\n",
       "      <th>2</th>\n",
       "      <td>37.85</td>\n",
       "      <td>-122.24</td>\n",
       "      <td>52.0</td>\n",
       "      <td>1467.0</td>\n",
       "      <td>190.0</td>\n",
       "      <td>496.0</td>\n",
       "      <td>177.0</td>\n",
       "      <td>7.2574</td>\n",
       "      <td>352100.0</td>\n",
       "    </tr>\n",
       "    <tr>\n",
       "      <th>3</th>\n",
       "      <td>37.85</td>\n",
       "      <td>-122.25</td>\n",
       "      <td>52.0</td>\n",
       "      <td>1274.0</td>\n",
       "      <td>235.0</td>\n",
       "      <td>558.0</td>\n",
       "      <td>219.0</td>\n",
       "      <td>5.6431</td>\n",
       "      <td>341300.0</td>\n",
       "    </tr>\n",
       "    <tr>\n",
       "      <th>4</th>\n",
       "      <td>37.85</td>\n",
       "      <td>-122.25</td>\n",
       "      <td>52.0</td>\n",
       "      <td>1627.0</td>\n",
       "      <td>280.0</td>\n",
       "      <td>565.0</td>\n",
       "      <td>259.0</td>\n",
       "      <td>3.8462</td>\n",
       "      <td>342200.0</td>\n",
       "    </tr>\n",
       "    <tr>\n",
       "      <th>...</th>\n",
       "      <td>...</td>\n",
       "      <td>...</td>\n",
       "      <td>...</td>\n",
       "      <td>...</td>\n",
       "      <td>...</td>\n",
       "      <td>...</td>\n",
       "      <td>...</td>\n",
       "      <td>...</td>\n",
       "      <td>...</td>\n",
       "    </tr>\n",
       "    <tr>\n",
       "      <th>20635</th>\n",
       "      <td>39.48</td>\n",
       "      <td>-121.09</td>\n",
       "      <td>25.0</td>\n",
       "      <td>1665.0</td>\n",
       "      <td>374.0</td>\n",
       "      <td>845.0</td>\n",
       "      <td>330.0</td>\n",
       "      <td>1.5603</td>\n",
       "      <td>78100.0</td>\n",
       "    </tr>\n",
       "    <tr>\n",
       "      <th>20636</th>\n",
       "      <td>39.49</td>\n",
       "      <td>-121.21</td>\n",
       "      <td>18.0</td>\n",
       "      <td>697.0</td>\n",
       "      <td>150.0</td>\n",
       "      <td>356.0</td>\n",
       "      <td>114.0</td>\n",
       "      <td>2.5568</td>\n",
       "      <td>77100.0</td>\n",
       "    </tr>\n",
       "    <tr>\n",
       "      <th>20637</th>\n",
       "      <td>39.43</td>\n",
       "      <td>-121.22</td>\n",
       "      <td>17.0</td>\n",
       "      <td>2254.0</td>\n",
       "      <td>485.0</td>\n",
       "      <td>1007.0</td>\n",
       "      <td>433.0</td>\n",
       "      <td>1.7000</td>\n",
       "      <td>92300.0</td>\n",
       "    </tr>\n",
       "    <tr>\n",
       "      <th>20638</th>\n",
       "      <td>39.43</td>\n",
       "      <td>-121.32</td>\n",
       "      <td>18.0</td>\n",
       "      <td>1860.0</td>\n",
       "      <td>409.0</td>\n",
       "      <td>741.0</td>\n",
       "      <td>349.0</td>\n",
       "      <td>1.8672</td>\n",
       "      <td>84700.0</td>\n",
       "    </tr>\n",
       "    <tr>\n",
       "      <th>20639</th>\n",
       "      <td>39.37</td>\n",
       "      <td>-121.24</td>\n",
       "      <td>16.0</td>\n",
       "      <td>2785.0</td>\n",
       "      <td>616.0</td>\n",
       "      <td>1387.0</td>\n",
       "      <td>530.0</td>\n",
       "      <td>2.3886</td>\n",
       "      <td>89400.0</td>\n",
       "    </tr>\n",
       "  </tbody>\n",
       "</table>\n",
       "<p>20640 rows × 9 columns</p>\n",
       "</div>"
      ],
      "text/plain": [
       "       latitude  longitude  housing_median_age  total_rooms  total_bedrooms  \\\n",
       "0         37.88    -122.23                41.0        880.0           129.0   \n",
       "1         37.86    -122.22                21.0       7099.0          1106.0   \n",
       "2         37.85    -122.24                52.0       1467.0           190.0   \n",
       "3         37.85    -122.25                52.0       1274.0           235.0   \n",
       "4         37.85    -122.25                52.0       1627.0           280.0   \n",
       "...         ...        ...                 ...          ...             ...   \n",
       "20635     39.48    -121.09                25.0       1665.0           374.0   \n",
       "20636     39.49    -121.21                18.0        697.0           150.0   \n",
       "20637     39.43    -121.22                17.0       2254.0           485.0   \n",
       "20638     39.43    -121.32                18.0       1860.0           409.0   \n",
       "20639     39.37    -121.24                16.0       2785.0           616.0   \n",
       "\n",
       "       population  households  median_income  median_house_value  \n",
       "0           322.0       126.0         8.3252            452600.0  \n",
       "1          2401.0      1138.0         8.3014            358500.0  \n",
       "2           496.0       177.0         7.2574            352100.0  \n",
       "3           558.0       219.0         5.6431            341300.0  \n",
       "4           565.0       259.0         3.8462            342200.0  \n",
       "...           ...         ...            ...                 ...  \n",
       "20635       845.0       330.0         1.5603             78100.0  \n",
       "20636       356.0       114.0         2.5568             77100.0  \n",
       "20637      1007.0       433.0         1.7000             92300.0  \n",
       "20638       741.0       349.0         1.8672             84700.0  \n",
       "20639      1387.0       530.0         2.3886             89400.0  \n",
       "\n",
       "[20640 rows x 9 columns]"
      ]
     },
     "execution_count": 5,
     "metadata": {},
     "output_type": "execute_result"
    }
   ],
   "source": [
    "columns_inscope = [\n",
    "'latitude',\n",
    "'longitude',\n",
    "'housing_median_age',\n",
    "'total_rooms',\n",
    "'total_bedrooms',\n",
    "'population',\n",
    "'households',\n",
    "'median_income',\n",
    "'median_house_value'\n",
    "]\n",
    "\n",
    "housing = housing[columns_inscope]\n",
    "housing"
   ]
  },
  {
   "cell_type": "code",
   "execution_count": 6,
   "id": "326f50b0-53e7-46ae-b6ba-16ed5c6d7374",
   "metadata": {
    "execution": {
     "iopub.execute_input": "2024-09-30T20:34:48.284321Z",
     "iopub.status.busy": "2024-09-30T20:34:48.284266Z",
     "iopub.status.idle": "2024-09-30T20:34:48.286579Z",
     "shell.execute_reply": "2024-09-30T20:34:48.286386Z",
     "shell.execute_reply.started": "2024-09-30T20:34:48.284315Z"
    },
    "tags": []
   },
   "outputs": [
    {
     "data": {
      "text/plain": [
       "latitude              False\n",
       "longitude             False\n",
       "housing_median_age    False\n",
       "total_rooms           False\n",
       "total_bedrooms         True\n",
       "population            False\n",
       "households            False\n",
       "median_income         False\n",
       "median_house_value    False\n",
       "dtype: bool"
      ]
     },
     "execution_count": 6,
     "metadata": {},
     "output_type": "execute_result"
    }
   ],
   "source": [
    "#Q1\n",
    "# lokking if any columns has na values -- > 'total_bedrooms'\n",
    "housing.isna().any()"
   ]
  },
  {
   "cell_type": "code",
   "execution_count": 7,
   "id": "2b454a96-20a8-49ec-a5fb-6b61eb64c122",
   "metadata": {
    "execution": {
     "iopub.execute_input": "2024-09-30T20:34:48.286866Z",
     "iopub.status.busy": "2024-09-30T20:34:48.286816Z",
     "iopub.status.idle": "2024-09-30T20:34:48.293406Z",
     "shell.execute_reply": "2024-09-30T20:34:48.293215Z",
     "shell.execute_reply.started": "2024-09-30T20:34:48.286860Z"
    },
    "tags": []
   },
   "outputs": [
    {
     "data": {
      "text/plain": [
       "1166.0"
      ]
     },
     "execution_count": 7,
     "metadata": {},
     "output_type": "execute_result"
    }
   ],
   "source": [
    "#Q2\n",
    "from statistics import median\n",
    "median(housing['population'])"
   ]
  },
  {
   "cell_type": "code",
   "execution_count": 8,
   "id": "a61ec16d-3202-4c2a-9286-03c2c0cd7bee",
   "metadata": {
    "execution": {
     "iopub.execute_input": "2024-09-30T20:34:48.293794Z",
     "iopub.status.busy": "2024-09-30T20:34:48.293732Z",
     "iopub.status.idle": "2024-09-30T20:34:48.296691Z",
     "shell.execute_reply": "2024-09-30T20:34:48.296480Z",
     "shell.execute_reply.started": "2024-09-30T20:34:48.293787Z"
    },
    "tags": []
   },
   "outputs": [
    {
     "data": {
      "text/plain": [
       "np.float64(1166.0)"
      ]
     },
     "execution_count": 8,
     "metadata": {},
     "output_type": "execute_result"
    }
   ],
   "source": [
    "housing['population'].median()"
   ]
  },
  {
   "cell_type": "markdown",
   "id": "39e5f45d-66f0-4dd8-b36d-66152af6b05f",
   "metadata": {
    "execution": {
     "iopub.execute_input": "2024-09-30T20:26:20.789934Z",
     "iopub.status.busy": "2024-09-30T20:26:20.787070Z",
     "iopub.status.idle": "2024-09-30T20:26:20.800187Z",
     "shell.execute_reply": "2024-09-30T20:26:20.798417Z",
     "shell.execute_reply.started": "2024-09-30T20:26:20.789903Z"
    },
    "tags": []
   },
   "source": [
    "# Linear Regression on Housing Dataset\n",
    "\n",
    "This notebook performs the following tasks:\n",
    "1. **Data Preprocessing**: Handling missing values, scaling features, and preparing the dataset.\n",
    "2. **Model Training**: Using linear regression with and without regularization.\n",
    "3. **Evaluation**: Computing RMSE to evaluate model performance.\n",
    "4. **Prediction**: Generating predictions based on the trained model.\n",
    "\n",
    "## Functions Overview:\n",
    "- `prepare_x`: Prepares the feature matrix (X) by handling missing values.\n",
    "- `train_linear_regression`: Trains the linear regression model without regularization.\n",
    "- `train_linear_regression_reg`: Trains the linear regression model with regularization.\n",
    "- `rmse`: Computes the root mean squared error.\n",
    "- `predict`: Makes predictions based on the learned model.\n"
   ]
  },
  {
   "cell_type": "markdown",
   "id": "67faff74-55bb-491d-b0ad-bed34455ae2d",
   "metadata": {},
   "source": [
    "## Imports"
   ]
  },
  {
   "cell_type": "code",
   "execution_count": 9,
   "id": "96a1f38b-7b80-46d6-b26e-08779ebe57e3",
   "metadata": {
    "execution": {
     "iopub.execute_input": "2024-09-30T20:34:48.297174Z",
     "iopub.status.busy": "2024-09-30T20:34:48.297059Z",
     "iopub.status.idle": "2024-09-30T20:34:48.322018Z",
     "shell.execute_reply": "2024-09-30T20:34:48.321787Z",
     "shell.execute_reply.started": "2024-09-30T20:34:48.297166Z"
    },
    "tags": []
   },
   "outputs": [],
   "source": [
    "import numpy as np\n",
    "import pandas as pd\n",
    "import seaborn as sns\n",
    "import matplotlib.pyplot as plt\n",
    "import pickle\n",
    "from typing import Tuple"
   ]
  },
  {
   "cell_type": "markdown",
   "id": "59991612-f36e-423e-a1cd-3d6930ab6db1",
   "metadata": {},
   "source": [
    "## Setup"
   ]
  },
  {
   "cell_type": "code",
   "execution_count": 10,
   "id": "9c4c32fa-12fe-4b04-8ce0-cd206ca89d21",
   "metadata": {
    "execution": {
     "iopub.execute_input": "2024-09-30T20:34:48.322462Z",
     "iopub.status.busy": "2024-09-30T20:34:48.322374Z",
     "iopub.status.idle": "2024-09-30T20:34:48.324025Z",
     "shell.execute_reply": "2024-09-30T20:34:48.323816Z",
     "shell.execute_reply.started": "2024-09-30T20:34:48.322456Z"
    },
    "tags": []
   },
   "outputs": [],
   "source": [
    "# Set display options\n",
    "pd.set_option('display.max_rows', 500)\n",
    "pd.set_option('display.max_columns', 500)"
   ]
  },
  {
   "cell_type": "markdown",
   "id": "038815ef-8ba7-46db-bcf2-5b1fe0f34914",
   "metadata": {},
   "source": [
    "## Functions"
   ]
  },
  {
   "cell_type": "code",
   "execution_count": 11,
   "id": "52146c63-234b-49cc-9aac-613898bab5a6",
   "metadata": {
    "execution": {
     "iopub.execute_input": "2024-09-30T20:34:48.324483Z",
     "iopub.status.busy": "2024-09-30T20:34:48.324415Z",
     "iopub.status.idle": "2024-09-30T20:34:48.326302Z",
     "shell.execute_reply": "2024-09-30T20:34:48.326057Z",
     "shell.execute_reply.started": "2024-09-30T20:34:48.324477Z"
    },
    "tags": []
   },
   "outputs": [],
   "source": [
    "def train_linear_regression(X: pd.DataFrame, y: pd.Series) -> Tuple[float, np.ndarray]:\n",
    "    \"\"\"\n",
    "    Trains a linear regression model using the provided features and target.\n",
    "    \n",
    "    Args:\n",
    "    X (pd.DataFrame): Feature matrix for training.\n",
    "    y (pd.Series): Target variable for training.\n",
    "    \n",
    "    Returns:\n",
    "    Tuple[float, np.ndarray]: Intercept (w_0) and weights (w) of the trained linear regression model.\n",
    "    \"\"\"\n",
    "    ones = np.ones(X.shape[0])  # Add intercept\n",
    "    X = np.c_[ones, X]  # Add intercept to feature matrix\n",
    "    X_T_X_inv = np.linalg.inv(X.T.dot(X))  # Compute (X^T * X)^-1\n",
    "    w = X_T_X_inv.dot(X.T).dot(y)  # Compute weights using normal equation\n",
    "    return w[0], w[1:]  # Return intercept and weights\n"
   ]
  },
  {
   "cell_type": "code",
   "execution_count": 12,
   "id": "17975da6-071c-4509-82ef-8aa174675630",
   "metadata": {
    "execution": {
     "iopub.execute_input": "2024-09-30T20:34:48.326720Z",
     "iopub.status.busy": "2024-09-30T20:34:48.326639Z",
     "iopub.status.idle": "2024-09-30T20:34:48.328837Z",
     "shell.execute_reply": "2024-09-30T20:34:48.328636Z",
     "shell.execute_reply.started": "2024-09-30T20:34:48.326713Z"
    },
    "tags": []
   },
   "outputs": [],
   "source": [
    "def train_linear_regression_reg(X: pd.DataFrame, y: pd.Series, r: float = 0.0) -> Tuple[float, np.ndarray]:\n",
    "    \"\"\"\n",
    "    Trains a linear regression model with L2 regularization (Ridge regression).\n",
    "\n",
    "    Args:\n",
    "    X (pd.DataFrame): Feature matrix for training with shape (n_samples, n_features).\n",
    "    y (pd.Series): Target variable for training with shape (n_samples,).\n",
    "    r (float): Regularization parameter (lambda). Default is 0.0 for no regularization.\n",
    "\n",
    "    Returns:\n",
    "    Tuple[float, np.ndarray]: Intercept (w_0) and the coefficients (w) of the trained model.\n",
    "    \"\"\"\n",
    "    ones = np.ones(X.shape[0])  # Add intercept term\n",
    "    X = np.column_stack([ones, X])  # Stack ones to feature matrix\n",
    "\n",
    "    XTX = X.T.dot(X)  # Compute X^T * X\n",
    "    reg = r * np.eye(XTX.shape[0])  # Regularization matrix\n",
    "    XTX = XTX + reg  # Add regularization\n",
    "\n",
    "    XTX_inv = np.linalg.inv(XTX)  # Compute inverse\n",
    "    w = XTX_inv.dot(X.T).dot(y)  # Calculate weights\n",
    "\n",
    "    return w[0], w[1:]  # Return intercept and weights\n"
   ]
  },
  {
   "cell_type": "code",
   "execution_count": 13,
   "id": "6d7dc9cb-d3fc-4f5c-ace1-974f64660795",
   "metadata": {
    "execution": {
     "iopub.execute_input": "2024-09-30T20:34:48.329270Z",
     "iopub.status.busy": "2024-09-30T20:34:48.329171Z",
     "iopub.status.idle": "2024-09-30T20:34:48.331050Z",
     "shell.execute_reply": "2024-09-30T20:34:48.330849Z",
     "shell.execute_reply.started": "2024-09-30T20:34:48.329263Z"
    },
    "tags": []
   },
   "outputs": [],
   "source": [
    "def prepare_x(X: pd.DataFrame, fill_na_with: float = 0) -> pd.DataFrame:\n",
    "    \"\"\"\n",
    "    Prepares the feature matrix X by filling missing values with the specified value and scaling features if necessary.\n",
    "    \n",
    "    Args:\n",
    "    X (pd.DataFrame): Input feature matrix with missing values.\n",
    "    fill_na_with (float): The value to fill missing entries with.\n",
    "    \n",
    "    Returns:\n",
    "    pd.DataFrame: Processed feature matrix ready for model training.\n",
    "    \"\"\"\n",
    "    X = X.fillna(fill_na_with)  # Fill missing values\n",
    "    \n",
    "    return X\n"
   ]
  },
  {
   "cell_type": "code",
   "execution_count": 14,
   "id": "29dea1cd-a08b-4195-baf8-375cbca4fc3f",
   "metadata": {
    "execution": {
     "iopub.execute_input": "2024-09-30T20:34:48.332762Z",
     "iopub.status.busy": "2024-09-30T20:34:48.332690Z",
     "iopub.status.idle": "2024-09-30T20:34:48.334216Z",
     "shell.execute_reply": "2024-09-30T20:34:48.334029Z",
     "shell.execute_reply.started": "2024-09-30T20:34:48.332756Z"
    },
    "tags": []
   },
   "outputs": [],
   "source": [
    "def rmse(y_true: np.ndarray, y_pred: np.ndarray) -> float:\n",
    "    \"\"\"\n",
    "    Computes the Root Mean Squared Error (RMSE) between actual and predicted values.\n",
    "    \n",
    "    Args:\n",
    "    y_true (np.ndarray): Actual target values.\n",
    "    y_pred (np.ndarray): Predicted target values.\n",
    "    \n",
    "    Returns:\n",
    "    float: The RMSE value.\n",
    "    \"\"\"\n",
    "    return np.sqrt(np.mean((y_true - y_pred) ** 2))\n"
   ]
  },
  {
   "cell_type": "markdown",
   "id": "503fdb9f-731e-403f-a61e-54d2091887de",
   "metadata": {},
   "source": [
    "## loading the dataset"
   ]
  },
  {
   "cell_type": "code",
   "execution_count": 15,
   "id": "29cff9c0-cad6-467a-bc54-21053e6671c7",
   "metadata": {
    "execution": {
     "iopub.execute_input": "2024-09-30T20:34:48.334563Z",
     "iopub.status.busy": "2024-09-30T20:34:48.334507Z",
     "iopub.status.idle": "2024-09-30T20:34:48.343789Z",
     "shell.execute_reply": "2024-09-30T20:34:48.343553Z",
     "shell.execute_reply.started": "2024-09-30T20:34:48.334557Z"
    },
    "tags": []
   },
   "outputs": [],
   "source": [
    "df = pd.read_csv(\"housing.csv\")"
   ]
  },
  {
   "cell_type": "markdown",
   "id": "b4af873c-906d-49af-a708-bfb09d50f4c7",
   "metadata": {},
   "source": [
    "## exploratory analysis"
   ]
  },
  {
   "cell_type": "code",
   "execution_count": 16,
   "id": "5d418f0e-a83e-4347-97b5-04154862cd48",
   "metadata": {
    "execution": {
     "iopub.execute_input": "2024-09-30T20:34:48.344251Z",
     "iopub.status.busy": "2024-09-30T20:34:48.344146Z",
     "iopub.status.idle": "2024-09-30T20:34:48.346029Z",
     "shell.execute_reply": "2024-09-30T20:34:48.345843Z",
     "shell.execute_reply.started": "2024-09-30T20:34:48.344243Z"
    },
    "tags": []
   },
   "outputs": [
    {
     "data": {
      "text/plain": [
       "(20640, 10)"
      ]
     },
     "execution_count": 16,
     "metadata": {},
     "output_type": "execute_result"
    }
   ],
   "source": [
    "# check the size of the data\n",
    "df.shape"
   ]
  },
  {
   "cell_type": "code",
   "execution_count": 17,
   "id": "6688ddea-bdcc-4547-9daf-f3016a53b458",
   "metadata": {
    "execution": {
     "iopub.execute_input": "2024-09-30T20:34:48.346463Z",
     "iopub.status.busy": "2024-09-30T20:34:48.346357Z",
     "iopub.status.idle": "2024-09-30T20:34:48.348059Z",
     "shell.execute_reply": "2024-09-30T20:34:48.347874Z",
     "shell.execute_reply.started": "2024-09-30T20:34:48.346456Z"
    },
    "tags": []
   },
   "outputs": [
    {
     "data": {
      "text/plain": [
       "Index(['longitude', 'latitude', 'housing_median_age', 'total_rooms',\n",
       "       'total_bedrooms', 'population', 'households', 'median_income',\n",
       "       'median_house_value', 'ocean_proximity'],\n",
       "      dtype='object')"
      ]
     },
     "execution_count": 17,
     "metadata": {},
     "output_type": "execute_result"
    }
   ],
   "source": [
    "df.columns"
   ]
  },
  {
   "cell_type": "code",
   "execution_count": 18,
   "id": "e13834da-ffa1-4124-a9ce-e7fc5480eef4",
   "metadata": {
    "execution": {
     "iopub.execute_input": "2024-09-30T20:34:48.348533Z",
     "iopub.status.busy": "2024-09-30T20:34:48.348468Z",
     "iopub.status.idle": "2024-09-30T20:34:48.352914Z",
     "shell.execute_reply": "2024-09-30T20:34:48.352726Z",
     "shell.execute_reply.started": "2024-09-30T20:34:48.348527Z"
    },
    "tags": []
   },
   "outputs": [
    {
     "name": "stdout",
     "output_type": "stream",
     "text": [
      "<class 'pandas.core.frame.DataFrame'>\n",
      "RangeIndex: 20640 entries, 0 to 20639\n",
      "Data columns (total 10 columns):\n",
      " #   Column              Non-Null Count  Dtype  \n",
      "---  ------              --------------  -----  \n",
      " 0   longitude           20640 non-null  float64\n",
      " 1   latitude            20640 non-null  float64\n",
      " 2   housing_median_age  20640 non-null  float64\n",
      " 3   total_rooms         20640 non-null  float64\n",
      " 4   total_bedrooms      20433 non-null  float64\n",
      " 5   population          20640 non-null  float64\n",
      " 6   households          20640 non-null  float64\n",
      " 7   median_income       20640 non-null  float64\n",
      " 8   median_house_value  20640 non-null  float64\n",
      " 9   ocean_proximity     20640 non-null  object \n",
      "dtypes: float64(9), object(1)\n",
      "memory usage: 1.6+ MB\n",
      "None\n"
     ]
    }
   ],
   "source": [
    "# Display basic information\n",
    "print(df.info())"
   ]
  },
  {
   "cell_type": "code",
   "execution_count": 19,
   "id": "845cb377-ff11-428e-8bd7-b868aea68c09",
   "metadata": {
    "execution": {
     "iopub.execute_input": "2024-09-30T20:34:48.353334Z",
     "iopub.status.busy": "2024-09-30T20:34:48.353252Z",
     "iopub.status.idle": "2024-09-30T20:34:48.363250Z",
     "shell.execute_reply": "2024-09-30T20:34:48.363038Z",
     "shell.execute_reply.started": "2024-09-30T20:34:48.353328Z"
    },
    "tags": []
   },
   "outputs": [
    {
     "data": {
      "text/html": [
       "<div>\n",
       "<style scoped>\n",
       "    .dataframe tbody tr th:only-of-type {\n",
       "        vertical-align: middle;\n",
       "    }\n",
       "\n",
       "    .dataframe tbody tr th {\n",
       "        vertical-align: top;\n",
       "    }\n",
       "\n",
       "    .dataframe thead th {\n",
       "        text-align: right;\n",
       "    }\n",
       "</style>\n",
       "<table border=\"1\" class=\"dataframe\">\n",
       "  <thead>\n",
       "    <tr style=\"text-align: right;\">\n",
       "      <th></th>\n",
       "      <th>longitude</th>\n",
       "      <th>latitude</th>\n",
       "      <th>housing_median_age</th>\n",
       "      <th>total_rooms</th>\n",
       "      <th>total_bedrooms</th>\n",
       "      <th>population</th>\n",
       "      <th>households</th>\n",
       "      <th>median_income</th>\n",
       "      <th>median_house_value</th>\n",
       "    </tr>\n",
       "  </thead>\n",
       "  <tbody>\n",
       "    <tr>\n",
       "      <th>count</th>\n",
       "      <td>20640.000000</td>\n",
       "      <td>20640.000000</td>\n",
       "      <td>20640.000000</td>\n",
       "      <td>20640.000000</td>\n",
       "      <td>20433.000000</td>\n",
       "      <td>20640.000000</td>\n",
       "      <td>20640.000000</td>\n",
       "      <td>20640.000000</td>\n",
       "      <td>20640.000000</td>\n",
       "    </tr>\n",
       "    <tr>\n",
       "      <th>mean</th>\n",
       "      <td>-119.569704</td>\n",
       "      <td>35.631861</td>\n",
       "      <td>28.639486</td>\n",
       "      <td>2635.763081</td>\n",
       "      <td>537.870553</td>\n",
       "      <td>1425.476744</td>\n",
       "      <td>499.539680</td>\n",
       "      <td>3.870671</td>\n",
       "      <td>206855.816909</td>\n",
       "    </tr>\n",
       "    <tr>\n",
       "      <th>std</th>\n",
       "      <td>2.003532</td>\n",
       "      <td>2.135952</td>\n",
       "      <td>12.585558</td>\n",
       "      <td>2181.615252</td>\n",
       "      <td>421.385070</td>\n",
       "      <td>1132.462122</td>\n",
       "      <td>382.329753</td>\n",
       "      <td>1.899822</td>\n",
       "      <td>115395.615874</td>\n",
       "    </tr>\n",
       "    <tr>\n",
       "      <th>min</th>\n",
       "      <td>-124.350000</td>\n",
       "      <td>32.540000</td>\n",
       "      <td>1.000000</td>\n",
       "      <td>2.000000</td>\n",
       "      <td>1.000000</td>\n",
       "      <td>3.000000</td>\n",
       "      <td>1.000000</td>\n",
       "      <td>0.499900</td>\n",
       "      <td>14999.000000</td>\n",
       "    </tr>\n",
       "    <tr>\n",
       "      <th>25%</th>\n",
       "      <td>-121.800000</td>\n",
       "      <td>33.930000</td>\n",
       "      <td>18.000000</td>\n",
       "      <td>1447.750000</td>\n",
       "      <td>296.000000</td>\n",
       "      <td>787.000000</td>\n",
       "      <td>280.000000</td>\n",
       "      <td>2.563400</td>\n",
       "      <td>119600.000000</td>\n",
       "    </tr>\n",
       "    <tr>\n",
       "      <th>50%</th>\n",
       "      <td>-118.490000</td>\n",
       "      <td>34.260000</td>\n",
       "      <td>29.000000</td>\n",
       "      <td>2127.000000</td>\n",
       "      <td>435.000000</td>\n",
       "      <td>1166.000000</td>\n",
       "      <td>409.000000</td>\n",
       "      <td>3.534800</td>\n",
       "      <td>179700.000000</td>\n",
       "    </tr>\n",
       "    <tr>\n",
       "      <th>75%</th>\n",
       "      <td>-118.010000</td>\n",
       "      <td>37.710000</td>\n",
       "      <td>37.000000</td>\n",
       "      <td>3148.000000</td>\n",
       "      <td>647.000000</td>\n",
       "      <td>1725.000000</td>\n",
       "      <td>605.000000</td>\n",
       "      <td>4.743250</td>\n",
       "      <td>264725.000000</td>\n",
       "    </tr>\n",
       "    <tr>\n",
       "      <th>max</th>\n",
       "      <td>-114.310000</td>\n",
       "      <td>41.950000</td>\n",
       "      <td>52.000000</td>\n",
       "      <td>39320.000000</td>\n",
       "      <td>6445.000000</td>\n",
       "      <td>35682.000000</td>\n",
       "      <td>6082.000000</td>\n",
       "      <td>15.000100</td>\n",
       "      <td>500001.000000</td>\n",
       "    </tr>\n",
       "  </tbody>\n",
       "</table>\n",
       "</div>"
      ],
      "text/plain": [
       "          longitude      latitude  housing_median_age   total_rooms  \\\n",
       "count  20640.000000  20640.000000        20640.000000  20640.000000   \n",
       "mean    -119.569704     35.631861           28.639486   2635.763081   \n",
       "std        2.003532      2.135952           12.585558   2181.615252   \n",
       "min     -124.350000     32.540000            1.000000      2.000000   \n",
       "25%     -121.800000     33.930000           18.000000   1447.750000   \n",
       "50%     -118.490000     34.260000           29.000000   2127.000000   \n",
       "75%     -118.010000     37.710000           37.000000   3148.000000   \n",
       "max     -114.310000     41.950000           52.000000  39320.000000   \n",
       "\n",
       "       total_bedrooms    population    households  median_income  \\\n",
       "count    20433.000000  20640.000000  20640.000000   20640.000000   \n",
       "mean       537.870553   1425.476744    499.539680       3.870671   \n",
       "std        421.385070   1132.462122    382.329753       1.899822   \n",
       "min          1.000000      3.000000      1.000000       0.499900   \n",
       "25%        296.000000    787.000000    280.000000       2.563400   \n",
       "50%        435.000000   1166.000000    409.000000       3.534800   \n",
       "75%        647.000000   1725.000000    605.000000       4.743250   \n",
       "max       6445.000000  35682.000000   6082.000000      15.000100   \n",
       "\n",
       "       median_house_value  \n",
       "count        20640.000000  \n",
       "mean        206855.816909  \n",
       "std         115395.615874  \n",
       "min          14999.000000  \n",
       "25%         119600.000000  \n",
       "50%         179700.000000  \n",
       "75%         264725.000000  \n",
       "max         500001.000000  "
      ]
     },
     "execution_count": 19,
     "metadata": {},
     "output_type": "execute_result"
    }
   ],
   "source": [
    "df.describe()"
   ]
  },
  {
   "cell_type": "code",
   "execution_count": 20,
   "id": "3cd2e99a-8a39-49bd-8f73-e9d3a32454ad",
   "metadata": {
    "execution": {
     "iopub.execute_input": "2024-09-30T20:34:48.363667Z",
     "iopub.status.busy": "2024-09-30T20:34:48.363586Z",
     "iopub.status.idle": "2024-09-30T20:34:48.366174Z",
     "shell.execute_reply": "2024-09-30T20:34:48.365942Z",
     "shell.execute_reply.started": "2024-09-30T20:34:48.363660Z"
    },
    "tags": []
   },
   "outputs": [
    {
     "name": "stdout",
     "output_type": "stream",
     "text": [
      "longitude               0\n",
      "latitude                0\n",
      "housing_median_age      0\n",
      "total_rooms             0\n",
      "total_bedrooms        207\n",
      "population              0\n",
      "households              0\n",
      "median_income           0\n",
      "median_house_value      0\n",
      "ocean_proximity         0\n",
      "dtype: int64\n"
     ]
    }
   ],
   "source": [
    "# check if there are any missinng in any of the columns\n",
    "print(df.isnull().sum())\n"
   ]
  },
  {
   "cell_type": "code",
   "execution_count": 21,
   "id": "ac7cced3-c7c7-498e-b367-26ce4004783d",
   "metadata": {
    "execution": {
     "iopub.execute_input": "2024-09-30T20:34:48.366449Z",
     "iopub.status.busy": "2024-09-30T20:34:48.366391Z",
     "iopub.status.idle": "2024-09-30T20:34:48.368915Z",
     "shell.execute_reply": "2024-09-30T20:34:48.368575Z",
     "shell.execute_reply.started": "2024-09-30T20:34:48.366443Z"
    },
    "tags": []
   },
   "outputs": [],
   "source": [
    "# choosing the desiered columns for building the model\n",
    "columns = [\n",
    "    \"longitude\",\n",
    "    \"latitude\",\n",
    "    \"housing_median_age\",\n",
    "    \"total_rooms\",\n",
    "    \"total_bedrooms\",\n",
    "    \"population\",\n",
    "    \"households\", \n",
    "    \"median_income\",\n",
    "    \"median_house_value\" # target feature\n",
    "]\n",
    "\n",
    "df = df[columns]"
   ]
  },
  {
   "cell_type": "markdown",
   "id": "7ac788b2-b660-44d0-91c9-bb5d85723d63",
   "metadata": {},
   "source": [
    "## shuffling & splitting the dataset (60/20/20)%"
   ]
  },
  {
   "cell_type": "code",
   "execution_count": 22,
   "id": "a8c9c6ba-cd74-4ecd-9b87-3812093138f6",
   "metadata": {
    "execution": {
     "iopub.execute_input": "2024-09-30T20:34:48.369716Z",
     "iopub.status.busy": "2024-09-30T20:34:48.369633Z",
     "iopub.status.idle": "2024-09-30T20:34:48.374228Z",
     "shell.execute_reply": "2024-09-30T20:34:48.373967Z",
     "shell.execute_reply.started": "2024-09-30T20:34:48.369708Z"
    },
    "tags": []
   },
   "outputs": [],
   "source": [
    "# splitting the dataset into trainig/validation and testing.\n",
    "n = len(df)\n",
    "idx = np.arange(n)\n",
    "\n",
    "n_val = int(0.2*n)\n",
    "n_test = int(0.2*n)\n",
    "n_train = n - (n_val+n_test)\n",
    "np.random.seed(42)\n",
    "np.random.shuffle(idx)\n",
    "\n",
    "\n",
    "df_shuffled = df.iloc[idx]\n",
    "\n",
    "df_train = df_shuffled.iloc[:n_train].copy()\n",
    "df_test  = df_shuffled.iloc[n_train:n_train+n_test].copy()\n",
    "df_val = df_shuffled.iloc[n_train+n_val:].copy()"
   ]
  },
  {
   "cell_type": "code",
   "execution_count": 23,
   "id": "eebdb6f1-4fd0-4c9a-8d3d-a0ac7613c5bf",
   "metadata": {
    "execution": {
     "iopub.execute_input": "2024-09-30T20:34:48.374847Z",
     "iopub.status.busy": "2024-09-30T20:34:48.374751Z",
     "iopub.status.idle": "2024-09-30T20:34:48.377069Z",
     "shell.execute_reply": "2024-09-30T20:34:48.376835Z",
     "shell.execute_reply.started": "2024-09-30T20:34:48.374837Z"
    },
    "tags": []
   },
   "outputs": [],
   "source": [
    "df_train.reset_index(drop=True, inplace=True)\n",
    "df_test.reset_index(drop=True, inplace=True)\n",
    "df_val.reset_index(drop=True, inplace=True)"
   ]
  },
  {
   "cell_type": "code",
   "execution_count": 24,
   "id": "c27590a3-441e-40a6-8cbf-b89436075fe9",
   "metadata": {
    "execution": {
     "iopub.execute_input": "2024-09-30T20:34:48.377513Z",
     "iopub.status.busy": "2024-09-30T20:34:48.377447Z",
     "iopub.status.idle": "2024-09-30T20:34:48.380199Z",
     "shell.execute_reply": "2024-09-30T20:34:48.379983Z",
     "shell.execute_reply.started": "2024-09-30T20:34:48.377507Z"
    },
    "tags": []
   },
   "outputs": [],
   "source": [
    "# preparing the target feature which we want to make predictons upon (median_house_value)\n",
    "\n",
    "y_train_orig = df_train.median_house_value.values\n",
    "y_test_orig = df_test.median_house_value.values\n",
    "y_val_orig = df_val.median_house_value.values\n",
    "\n",
    " \n",
    "\"\"\"\n",
    "Normaization to avoid negative values and better reperenstation\n",
    "y=log(1+y)\n",
    "\n",
    "\"\"\"\n",
    "y_train = np.log1p(y_train_orig)\n",
    "y_val = np.log1p(y_val_orig)\n",
    "y_test = np.log1p(y_test_orig)\n",
    "\n",
    "\n",
    "'''\n",
    "After extracting the target variable median_house_value, the next step is to delete this column from the training, validation, and test sets. This is important because the model should NOT use the target variable as an input feature.\n",
    "'''\n",
    "del df_train['median_house_value']\n",
    "del df_val['median_house_value']\n",
    "del df_test['median_house_value']"
   ]
  },
  {
   "cell_type": "code",
   "execution_count": 25,
   "id": "5b1bc1f1-b023-4d6c-b613-1f272498b48b",
   "metadata": {
    "execution": {
     "iopub.execute_input": "2024-09-30T20:34:48.380658Z",
     "iopub.status.busy": "2024-09-30T20:34:48.380583Z",
     "iopub.status.idle": "2024-09-30T20:34:48.383184Z",
     "shell.execute_reply": "2024-09-30T20:34:48.382934Z",
     "shell.execute_reply.started": "2024-09-30T20:34:48.380651Z"
    },
    "tags": []
   },
   "outputs": [
    {
     "data": {
      "text/plain": [
       "(array([10.77270764, 10.7320612 , 13.12236738, 12.29500343, 12.53537999]),\n",
       " array([10.98191414, 12.01854355, 11.84510995, 11.58525543, 11.58246086]),\n",
       " array([11.4414402 , 12.15162174, 12.74081302, 12.16055736, 12.58485491]))"
      ]
     },
     "execution_count": 25,
     "metadata": {},
     "output_type": "execute_result"
    }
   ],
   "source": [
    "y_train[:5], y_val[:5], y_test[:5]"
   ]
  },
  {
   "cell_type": "code",
   "execution_count": 26,
   "id": "f6c84b47-1b64-41cc-bc21-f71fda885318",
   "metadata": {
    "execution": {
     "iopub.execute_input": "2024-09-30T20:34:48.383570Z",
     "iopub.status.busy": "2024-09-30T20:34:48.383495Z",
     "iopub.status.idle": "2024-09-30T20:34:48.386857Z",
     "shell.execute_reply": "2024-09-30T20:34:48.386550Z",
     "shell.execute_reply.started": "2024-09-30T20:34:48.383563Z"
    },
    "tags": []
   },
   "outputs": [
    {
     "data": {
      "text/plain": [
       "longitude               0\n",
       "latitude                0\n",
       "housing_median_age      0\n",
       "total_rooms             0\n",
       "total_bedrooms        207\n",
       "population              0\n",
       "households              0\n",
       "median_income           0\n",
       "dtype: int64"
      ]
     },
     "execution_count": 26,
     "metadata": {},
     "output_type": "execute_result"
    }
   ],
   "source": [
    "# searching for a feature which has missing values within the trainign set\n",
    "df_train.isnull().sum()"
   ]
  },
  {
   "cell_type": "markdown",
   "id": "d1da2f2b-0fb6-4d7e-9624-7aaa95d32a28",
   "metadata": {},
   "source": [
    "## filling missing values"
   ]
  },
  {
   "cell_type": "markdown",
   "id": "8edeb9e4-e88c-4691-b9af-01cace18da85",
   "metadata": {},
   "source": [
    "* filling the missing values with mean"
   ]
  },
  {
   "cell_type": "code",
   "execution_count": 27,
   "id": "66683d10-24d4-470f-ae93-75c112a280d2",
   "metadata": {
    "execution": {
     "iopub.execute_input": "2024-09-30T20:34:48.387360Z",
     "iopub.status.busy": "2024-09-30T20:34:48.387293Z",
     "iopub.status.idle": "2024-09-30T20:34:48.482377Z",
     "shell.execute_reply": "2024-09-30T20:34:48.482145Z",
     "shell.execute_reply.started": "2024-09-30T20:34:48.387353Z"
    },
    "tags": []
   },
   "outputs": [
    {
     "data": {
      "text/plain": [
       "<Axes: ylabel='Count'>"
      ]
     },
     "execution_count": 27,
     "metadata": {},
     "output_type": "execute_result"
    },
    {
     "data": {
      "image/png": "[encoded data removed]",
      "text/plain": [
       "<Figure size 640x480 with 1 Axes>"
      ]
     },
     "metadata": {},
     "output_type": "display_data"
    }
   ],
   "source": [
    "#filling with missing values with mean\n",
    "mean = df_train.total_bedrooms.mean()\n",
    "x_train = prepare_x(X = df_train,fill_na_with=mean)\n",
    "x_val = prepare_x(X = df_val,fill_na_with = mean)\n",
    "# finding the bias (intercept) and weights\n",
    "w_0,w = train_linear_regression(x_train,y_train)\n",
    "\n",
    "# performimng prediction on the validation set\n",
    "y_pred = w_0 + x_val.dot(w)\n",
    "\n",
    "# check for the predictor's error\n",
    "rmse(y_val,y_pred)\n",
    "\n",
    "\n",
    "\n",
    "\n",
    "sns.histplot(y_val,bins = 50,alpha = 0.5,color = 'blue')\n",
    "sns.histplot(y_pred, bins =50, alpha=0.5, color = 'red')"
   ]
  },
  {
   "cell_type": "markdown",
   "id": "647ac2d4-1268-4687-81c8-27da8712fadf",
   "metadata": {},
   "source": [
    "* filling missing values with Zeros"
   ]
  },
  {
   "cell_type": "code",
   "execution_count": 28,
   "id": "0c26d711-e022-4031-972a-a48324a48230",
   "metadata": {
    "execution": {
     "iopub.execute_input": "2024-09-30T20:34:48.482890Z",
     "iopub.status.busy": "2024-09-30T20:34:48.482819Z",
     "iopub.status.idle": "2024-09-30T20:34:48.555460Z",
     "shell.execute_reply": "2024-09-30T20:34:48.555226Z",
     "shell.execute_reply.started": "2024-09-30T20:34:48.482883Z"
    },
    "tags": []
   },
   "outputs": [
    {
     "data": {
      "text/plain": [
       "<Axes: ylabel='Count'>"
      ]
     },
     "execution_count": 28,
     "metadata": {},
     "output_type": "execute_result"
    },
    {
     "data": {
      "image/png": "[encoded data removed]",
      "text/plain": [
       "<Figure size 640x480 with 1 Axes>"
      ]
     },
     "metadata": {},
     "output_type": "display_data"
    }
   ],
   "source": [
    "\n",
    "\n",
    "x_train = prepare_x(df_train,fill_na_with = 0)\n",
    "x_val = prepare_x(df_val,fill_na_with = 0)\n",
    "\n",
    "w_0,w = train_linear_regression(x_train,y_train)\n",
    "\n",
    "y_pred = w_0 + x_val.dot(w)\n",
    "\n",
    "rmse(y_val,y_pred)\n",
    "\n",
    "\n",
    "\n",
    "\n",
    "sns.histplot(y_val,bins = 50,alpha = 0.5,color = 'blue')\n",
    "sns.histplot(y_pred, bins =50, alpha=0.5, color = 'red')"
   ]
  },
  {
   "cell_type": "markdown",
   "id": "8ed3f5e8-5646-42f1-8b4f-38e423809a99",
   "metadata": {
    "tags": []
   },
   "source": [
    "* Not really big difference between when replacing missign values in `total_bedrooms` with mean or 0s"
   ]
  },
  {
   "cell_type": "markdown",
   "id": "f3f54ae2-6370-4873-bd82-97220fff42b4",
   "metadata": {},
   "source": [
    "## Trying regularization"
   ]
  },
  {
   "cell_type": "raw",
   "id": "57ca927a-30fe-4d4d-bc73-546ed1f93406",
   "metadata": {
    "tags": []
   },
   "source": [
    "#### Normal Equation\n",
    "\n",
    "In standard linear regression, the coefficients \\( \\mathbf{w} \\) can be computed using the normal equation:\n",
    "\n",
    "$$\n",
    "\\mathbf{w} = (\\mathbf{X}^T \\mathbf{X})^{-1} \\mathbf{X}^T \\mathbf{y}\n",
    "$$"
   ]
  },
  {
   "cell_type": "raw",
   "id": "6f8db0a8-bc06-4e1e-b5ef-83af7412c903",
   "metadata": {
    "tags": []
   },
   "source": [
    "### Regularization\n",
    "\n",
    "In this implementation, a regularization term is added to prevent overfitting, especially in cases where the matrix \\( \\mathbf{X}^T \\mathbf{X} \\) is ill-conditioned or singular. The regularization term is computed as:\n",
    "\n",
    "$$\n",
    "\\text{reg} = r \\cdot \\mathbf{I}\n",
    "$$\n",
    "\n",
    "where \\( \\mathbf{I} \\) is the identity matrix of the same shape as \\( \\mathbf{X}^T \\mathbf{X} \\), and \\( r \\) is the regularization parameter (also called the ridge parameter).\n",
    "\n",
    "Adding the regularization term gives:\n",
    "\n",
    "$$\n",
    "\\mathbf{X}^T \\mathbf{X}_{\\text{reg}} = \\mathbf{X}^T \\mathbf{X} + r \\cdot \\mathbf{I}\n",
    "$$\n",
    "\n",
    "This adjustment ensures that \\( \\mathbf{X}^T \\mathbf{X}_{\\text{reg}} \\) is invertible even when \\( \\mathbf{X}^T \\mathbf{X} \\) may be close to singular.\n"
   ]
  },
  {
   "cell_type": "code",
   "execution_count": 29,
   "id": "c3c23928-d4a7-4c97-aff7-fc46d9e6bb9c",
   "metadata": {
    "execution": {
     "iopub.execute_input": "2024-09-30T20:34:48.555949Z",
     "iopub.status.busy": "2024-09-30T20:34:48.555876Z",
     "iopub.status.idle": "2024-09-30T20:34:48.603637Z",
     "shell.execute_reply": "2024-09-30T20:34:48.603254Z",
     "shell.execute_reply.started": "2024-09-30T20:34:48.555942Z"
    },
    "tags": []
   },
   "outputs": [
    {
     "name": "stdout",
     "output_type": "stream",
     "text": [
      "     0 0.35187\n",
      " 1e-06 0.35187\n",
      "0.0001 0.35187\n",
      " 0.001 0.35186\n",
      "  0.01 0.35186\n",
      "   0.1 0.35194\n",
      "     1 0.35530\n",
      "     5 0.36000\n",
      "    10 0.36117\n"
     ]
    },
    {
     "data": {
      "image/png": "[encoded data removed]",
      "text/plain": [
       "<Figure size 640x480 with 1 Axes>"
      ]
     },
     "metadata": {},
     "output_type": "display_data"
    }
   ],
   "source": [
    "# testing with differen regularization values\n",
    "r_values = [0, 0.000001, 0.0001, 0.001, 0.01, 0.1, 1, 5, 10]\n",
    "rmse_values = []\n",
    "\n",
    "for r in r_values:\n",
    "    w_0, w = train_linear_regression_reg(x_train, y_train, r=r)\n",
    "    y_pred = w_0 + x_val.dot(w)\n",
    "    rmse_val = rmse(y_val, y_pred)\n",
    "    rmse_values.append(rmse_val)\n",
    "    print('%06s %0.5f' % (r, rmse_val))\n",
    "\n",
    "# Plotting the RMSE vs Regularization parameter\n",
    "plt.plot(r_values, rmse_values, marker='o')\n",
    "plt.xlabel('Regularization (r)')\n",
    "plt.ylabel('RMSE')\n",
    "plt.title('RMSE vs Regularization Parameter')\n",
    "# plt.xscale('log')\n",
    "plt.show()\n",
    "\n"
   ]
  },
  {
   "cell_type": "markdown",
   "id": "8f7c5d01-93ad-4a4d-8fa3-f811a2a53abf",
   "metadata": {},
   "source": [
    "0 seems to be the optimal here i.e no regularization needed."
   ]
  },
  {
   "cell_type": "markdown",
   "id": "03f93441-d65c-41ed-833f-817c0ed06f0d",
   "metadata": {},
   "source": [
    "# checking the rmse with different seed number"
   ]
  },
  {
   "cell_type": "code",
   "execution_count": 30,
   "id": "34f6a37e-a618-4079-8ec8-9227bc7d5c06",
   "metadata": {
    "execution": {
     "iopub.execute_input": "2024-09-30T20:34:48.604069Z",
     "iopub.status.busy": "2024-09-30T20:34:48.604001Z",
     "iopub.status.idle": "2024-09-30T20:34:48.664119Z",
     "shell.execute_reply": "2024-09-30T20:34:48.663890Z",
     "shell.execute_reply.started": "2024-09-30T20:34:48.604062Z"
    },
    "tags": []
   },
   "outputs": [
    {
     "name": "stdout",
     "output_type": "stream",
     "text": [
      "0 0.33884304805303905\n",
      "1 0.3362387255954963\n",
      "2 0.33209123188372097\n",
      "3 0.3405153609033999\n",
      "4 0.338902406657164\n",
      "5 0.3434866725720328\n",
      "6 0.34519809531003354\n",
      "7 0.3395989927410697\n",
      "8 0.3466230873174177\n",
      "9 0.3365926124170717\n"
     ]
    },
    {
     "data": {
      "image/png": "[encoded data removed]",
      "text/plain": [
       "<Figure size 640x480 with 1 Axes>"
      ]
     },
     "metadata": {},
     "output_type": "display_data"
    }
   ],
   "source": [
    "\n",
    "rmses = []\n",
    "\n",
    "for s in [0, 1, 2, 3, 4, 5, 6, 7, 8, 9]:\n",
    "\n",
    "    n = len(df)\n",
    "\n",
    "    n_val = int(0.2 * n)\n",
    "    n_test = int(0.2 * n)\n",
    "    n_train = n - (n_val + n_test)\n",
    "\n",
    "    idx = np.arange(n)\n",
    "    np.random.seed(s)\n",
    "    np.random.shuffle(idx)\n",
    "\n",
    "    df_shuffled = df.iloc[idx]\n",
    "\n",
    "    df_train = df_shuffled.iloc[:n_train].copy()\n",
    "    df_val = df_shuffled.iloc[n_train:n_train+n_val].copy()\n",
    "    df_test = df_shuffled.iloc[n_train+n_val:].copy()\n",
    "\n",
    "    df_train = df_train.reset_index(drop=True)\n",
    "    df_val = df_val.reset_index(drop=True)\n",
    "    df_test = df_test.reset_index(drop=True)\n",
    "    \n",
    "    y_train_orig = df_train.median_house_value.values\n",
    "    y_val_orig = df_val.median_house_value.values\n",
    "    y_test_orig = df_test.median_house_value.values\n",
    "\n",
    "    y_train = np.log1p(y_train_orig)\n",
    "    y_val = np.log1p(y_val_orig)\n",
    "    y_test = np.log1p(y_test_orig)\n",
    "\n",
    "    del df_train['median_house_value']\n",
    "    del df_val['median_house_value']\n",
    "    del df_test['median_house_value']\n",
    "    \n",
    "    X_train = prepare_x(df_train, fill_na_with=0)\n",
    "    w_0, w = train_linear_regression(X_train, y_train)\n",
    "\n",
    "    X_val = prepare_x(df_val, fill_na_with=0)\n",
    "    y_pred = w_0 + X_val.dot(w)\n",
    "\n",
    "    result = rmse(y_val, y_pred)\n",
    "    print(s, result)\n",
    "    \n",
    "    rmses.append(result)\n",
    "    \n",
    "# Plotting the RMSE vs Regularization parameter\n",
    "plt.plot(range(10), rmses, marker='x',color='orange')\n",
    "plt.xlabel('Random Seed')\n",
    "plt.ylabel('RMSE')\n",
    "plt.title('RMSE vs Random Seed')\n",
    "plt.show()\n"
   ]
  },
  {
   "cell_type": "markdown",
   "id": "e4e07089-b7b6-45cf-8d5c-d3247664b814",
   "metadata": {},
   "source": [
    "Standard deviation shows how different the values are.\n",
    "> If it's low, then all values are approximately the same.\n",
    "> If it's high, the values are different. \n",
    "> If standard deviation of scores is low, then our model is *stable*."
   ]
  },
  {
   "cell_type": "code",
   "execution_count": 31,
   "id": "fb726293-c79a-4548-bbcd-0c0f13bc5fc6",
   "metadata": {
    "execution": {
     "iopub.execute_input": "2024-09-30T20:34:48.664490Z",
     "iopub.status.busy": "2024-09-30T20:34:48.664426Z",
     "iopub.status.idle": "2024-09-30T20:34:48.666528Z",
     "shell.execute_reply": "2024-09-30T20:34:48.666330Z",
     "shell.execute_reply.started": "2024-09-30T20:34:48.664483Z"
    },
    "tags": []
   },
   "outputs": [
    {
     "data": {
      "text/plain": [
       "np.float64(0.004170771946572253)"
      ]
     },
     "execution_count": 31,
     "metadata": {},
     "output_type": "execute_result"
    }
   ],
   "source": [
    "np.std(rmses)"
   ]
  },
  {
   "cell_type": "markdown",
   "id": "d4afb1fa-c69f-4f5d-b529-9d76bb2dddc5",
   "metadata": {},
   "source": [
    "# looking at rmse with test data"
   ]
  },
  {
   "cell_type": "code",
   "execution_count": 32,
   "id": "dda14fe0-9aa2-4be6-847b-3fa4f4bed3e2",
   "metadata": {
    "execution": {
     "iopub.execute_input": "2024-09-30T20:34:48.666840Z",
     "iopub.status.busy": "2024-09-30T20:34:48.666781Z",
     "iopub.status.idle": "2024-09-30T20:34:48.670543Z",
     "shell.execute_reply": "2024-09-30T20:34:48.670344Z",
     "shell.execute_reply.started": "2024-09-30T20:34:48.666833Z"
    },
    "tags": []
   },
   "outputs": [],
   "source": [
    "n = len(df)\n",
    "\n",
    "n_val = int(0.2 * n)\n",
    "n_test = int(0.2 * n)\n",
    "n_train = n - (n_val + n_test)\n",
    "\n",
    "idx = np.arange(n)\n",
    "np.random.seed(2) # seened to have th least rmse\n",
    "np.random.shuffle(idx)\n",
    "\n",
    "df_shuffled = df.iloc[idx]\n",
    "\n",
    "df_train = df_shuffled.iloc[:n_train].copy()\n",
    "df_val = df_shuffled.iloc[n_train:n_train+n_val].copy()\n",
    "df_test = df_shuffled.iloc[n_train+n_val:].copy()\n",
    "\n",
    "df_train = df_train.reset_index(drop=True)\n",
    "df_val = df_val.reset_index(drop=True)\n",
    "df_test = df_test.reset_index(drop=True)\n",
    "\n",
    "y_train_orig = df_train.median_house_value.values\n",
    "y_val_orig = df_val.median_house_value.values\n",
    "y_test_orig = df_test.median_house_value.values\n",
    "\n",
    "y_train = np.log1p(y_train_orig)\n",
    "y_val = np.log1p(y_val_orig)\n",
    "y_test = np.log1p(y_test_orig)"
   ]
  },
  {
   "cell_type": "code",
   "execution_count": 33,
   "id": "075abd90-dc48-49f1-876e-e21ef94ab043",
   "metadata": {
    "execution": {
     "iopub.execute_input": "2024-09-30T20:34:48.670915Z",
     "iopub.status.busy": "2024-09-30T20:34:48.670858Z",
     "iopub.status.idle": "2024-09-30T20:34:48.672486Z",
     "shell.execute_reply": "2024-09-30T20:34:48.672303Z",
     "shell.execute_reply.started": "2024-09-30T20:34:48.670909Z"
    },
    "tags": []
   },
   "outputs": [],
   "source": [
    "del df_train['median_house_value']\n",
    "del df_val['median_house_value']\n",
    "del df_test['median_house_value']"
   ]
  },
  {
   "cell_type": "code",
   "execution_count": 34,
   "id": "5542e0ba-dca9-4ca0-b068-8f12dda75b97",
   "metadata": {
    "execution": {
     "iopub.execute_input": "2024-09-30T20:34:48.672933Z",
     "iopub.status.busy": "2024-09-30T20:34:48.672854Z",
     "iopub.status.idle": "2024-09-30T20:34:48.676639Z",
     "shell.execute_reply": "2024-09-30T20:34:48.676443Z",
     "shell.execute_reply.started": "2024-09-30T20:34:48.672926Z"
    },
    "tags": []
   },
   "outputs": [
    {
     "name": "stdout",
     "output_type": "stream",
     "text": [
      "0.3480830391854412\n",
      "\n",
      "-11.777114174540074\n",
      "\n",
      "[-2.76751716e-01 -2.81976520e-01  3.30029293e-03 -2.15139202e-05\n",
      "  2.42422610e-04 -1.77641418e-04  4.63769406e-04  1.73973154e-01]\n",
      "\n"
     ]
    }
   ],
   "source": [
    "df_full_train = pd.concat([df_train, df_val])\n",
    "df_full_train = df_full_train.reset_index(drop=True)\n",
    "\n",
    "X_full_train = prepare_x(df_full_train, fill_na_with=0)\n",
    "y_full_train = np.concatenate([y_train, y_val])\n",
    "w_0, w = train_linear_regression_reg(X_full_train, y_full_train, r=0.001)\n",
    "\n",
    "X_test = prepare_x(df_test, fill_na_with=0)\n",
    "y_pred = w_0 + X_test.dot(w)\n",
    "\n",
    "result = rmse(y_test, y_pred)\n",
    "print(result,end = \"\\n\\n\")\n",
    "print(w_0,end = \"\\n\\n\")\n",
    "print(w, end = \"\\n\\n\")"
   ]
  },
  {
   "cell_type": "markdown",
   "id": "ea3b710c-7ae3-4559-a2fb-31d3f7a689b7",
   "metadata": {},
   "source": [
    "# saving the best parameters for the trained model"
   ]
  },
  {
   "cell_type": "code",
   "execution_count": 35,
   "id": "6b4b8811-aa01-4a4d-acfb-c6a2b0cb7154",
   "metadata": {
    "execution": {
     "iopub.execute_input": "2024-09-30T20:34:48.677055Z",
     "iopub.status.busy": "2024-09-30T20:34:48.676965Z",
     "iopub.status.idle": "2024-09-30T20:34:48.678900Z",
     "shell.execute_reply": "2024-09-30T20:34:48.678716Z",
     "shell.execute_reply.started": "2024-09-30T20:34:48.677049Z"
    },
    "tags": []
   },
   "outputs": [
    {
     "data": {
      "text/plain": [
       "np.float64(-11.777114174540074)"
      ]
     },
     "execution_count": 35,
     "metadata": {},
     "output_type": "execute_result"
    }
   ],
   "source": [
    "w_0"
   ]
  },
  {
   "cell_type": "code",
   "execution_count": 36,
   "id": "b636f117-b609-4140-a2fc-889077e38b7c",
   "metadata": {
    "execution": {
     "iopub.execute_input": "2024-09-30T20:34:48.679336Z",
     "iopub.status.busy": "2024-09-30T20:34:48.679248Z",
     "iopub.status.idle": "2024-09-30T20:34:48.681901Z",
     "shell.execute_reply": "2024-09-30T20:34:48.681687Z",
     "shell.execute_reply.started": "2024-09-30T20:34:48.679330Z"
    },
    "tags": []
   },
   "outputs": [
    {
     "data": {
      "text/plain": [
       "array([-2.76751716e-01, -2.81976520e-01,  3.30029293e-03, -2.15139202e-05,\n",
       "        2.42422610e-04, -1.77641418e-04,  4.63769406e-04,  1.73973154e-01])"
      ]
     },
     "execution_count": 36,
     "metadata": {},
     "output_type": "execute_result"
    }
   ],
   "source": [
    "w"
   ]
  },
  {
   "cell_type": "code",
   "execution_count": 37,
   "id": "3652aef1-ad59-4aa6-8a16-33e4845d577e",
   "metadata": {
    "execution": {
     "iopub.execute_input": "2024-09-30T20:34:48.682635Z",
     "iopub.status.busy": "2024-09-30T20:34:48.682536Z",
     "iopub.status.idle": "2024-09-30T20:34:48.685912Z",
     "shell.execute_reply": "2024-09-30T20:34:48.685592Z",
     "shell.execute_reply.started": "2024-09-30T20:34:48.682626Z"
    },
    "tags": []
   },
   "outputs": [
    {
     "name": "stdout",
     "output_type": "stream",
     "text": [
      "Trained model saved successfully!\n"
     ]
    }
   ],
   "source": [
    "\n",
    "\n",
    "# Save the model parameters (w_0 and w)\n",
    "trained_model = {\n",
    "    'w_0': w_0,\n",
    "    'w': w\n",
    "}\n",
    "\n",
    "# Save the trained model to a file in the current working directory\n",
    "with open('trained_model.pkl', 'wb') as f:\n",
    "    pickle.dump(trained_model, f)\n",
    "\n",
    "print(\"Trained model saved successfully!\")"
   ]
  },
  {
   "cell_type": "code",
   "execution_count": 38,
   "id": "6162f9db-2213-4057-9201-a91a90f95bc2",
   "metadata": {
    "execution": {
     "iopub.execute_input": "2024-09-30T20:34:48.686328Z",
     "iopub.status.busy": "2024-09-30T20:34:48.686227Z",
     "iopub.status.idle": "2024-09-30T20:34:48.689344Z",
     "shell.execute_reply": "2024-09-30T20:34:48.689164Z",
     "shell.execute_reply.started": "2024-09-30T20:34:48.686320Z"
    },
    "tags": []
   },
   "outputs": [
    {
     "name": "stdout",
     "output_type": "stream",
     "text": [
      "Loaded model RMSE: 0.3480830391854412\n"
     ]
    }
   ],
   "source": [
    "# Load the saved model\n",
    "with open('trained_model.pkl', 'rb') as f:\n",
    "    loaded_model = pickle.load(f)\n",
    "\n",
    "# Extract the saved weights\n",
    "w_0 = loaded_model['w_0']\n",
    "w = loaded_model['w']\n",
    "\n",
    "# Now you can use the loaded model to make predictions\n",
    "X_test = prepare_x(df_test, fill_na_with=0)\n",
    "y_pred = w_0 + X_test.dot(w)\n",
    "\n",
    "# Compute RMSE or make predictions\n",
    "result = rmse(y_test, y_pred)\n",
    "print(\"Loaded model RMSE:\", result)\n"
   ]
  },
  {
   "cell_type": "markdown",
   "id": "bbe13efa-b7c6-47b9-8ac9-a5d7595a7462",
   "metadata": {},
   "source": [
    "# generating a prediction on the loaded model"
   ]
  },
  {
   "cell_type": "code",
   "execution_count": 39,
   "id": "926f601d-0fc0-422c-b35f-f8a3d22193f0",
   "metadata": {
    "execution": {
     "iopub.execute_input": "2024-09-30T20:34:48.689792Z",
     "iopub.status.busy": "2024-09-30T20:34:48.689724Z",
     "iopub.status.idle": "2024-09-30T20:34:48.693191Z",
     "shell.execute_reply": "2024-09-30T20:34:48.692967Z",
     "shell.execute_reply.started": "2024-09-30T20:34:48.689785Z"
    },
    "tags": []
   },
   "outputs": [
    {
     "name": "stdout",
     "output_type": "stream",
     "text": [
      "longitude             -117.000\n",
      "latitude                32.850\n",
      "housing_median_age      24.000\n",
      "total_rooms           1888.000\n",
      "total_bedrooms         319.000\n",
      "population             950.000\n",
      "households             319.000\n",
      "median_income            5.282\n",
      "Name: 1, dtype: float64\n",
      "\n",
      "\n",
      "Predicted value (in original scale): 1    231870.54\n",
      "dtype: float64\n"
     ]
    }
   ],
   "source": [
    "# if you want to generate a prediction based on the 8 features provided from the list\n",
    "'''\n",
    "features = [\n",
    "1. longitude: A measure of how far west a house is; a higher value is farther west\n",
    "\n",
    "2. latitude: A measure of how far north a house is; a higher value is farther north\n",
    "\n",
    "3. dfMedianAge: Median age of a house within a block; a lower number is a newer building\n",
    "\n",
    "4. totalRooms: Total number of rooms within a block\n",
    "\n",
    "5. totalBedrooms: Total number of bedrooms within a block\n",
    "\n",
    "6. population: Total number of people residing within a block\n",
    "\n",
    "7. households: Total number of households, a group of people residing within a home unit, for a block\n",
    "\n",
    "8. medianIncome: Median income for households within a block of houses (measured in tens of thousands of US Dollars)\n",
    "]\n",
    "\n",
    "'''\n",
    "new_features = [\n",
    "    37.88,\n",
    "    -122.23,\n",
    "    25,\n",
    "    3,\n",
    "    1,\n",
    "    50,\n",
    "    5,\n",
    "    70000\n",
    "    \n",
    "]\n",
    "\n",
    "\n",
    "# predicting a house median value from the test data\n",
    "new_features = df_test.iloc[1,:]\n",
    "print(new_features)\n",
    "print(\"\\n\")\n",
    "# Prepare the input as a DataFrame (ensure it aligns with your feature columns)\n",
    "new_features_prepared = prepare_x(pd.DataFrame([new_features]), fill_na_with=0)\n",
    "\n",
    "\n",
    "\n",
    "# Predict using the loaded model parameters (w_0 and w)\n",
    "y_pred_new = w_0 + new_features_prepared.dot(w)\n",
    "\n",
    "# Reverse the log transformation (if it was used during training)\n",
    "predicted_value = np.expm1(y_pred_new)\n",
    "\n",
    "print(\"Predicted value (in original scale):\", np.round(predicted_value,2))\n"
   ]
  }
 ],
 "metadata": {
  "kernelspec": {
   "display_name": "venv-kernel",
   "language": "python",
   "name": "venv-kernel"
  },
  "language_info": {
   "codemirror_mode": {
    "name": "ipython",
    "version": 3
   },
   "file_extension": ".py",
   "mimetype": "text/x-python",
   "name": "python",
   "nbconvert_exporter": "python",
   "pygments_lexer": "ipython3",
   "version": "3.12.4"
  }
 },
 "nbformat": 4,
 "nbformat_minor": 5
}
